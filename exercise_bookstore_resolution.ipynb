{
 "cells": [
  {
   "cell_type": "code",
   "execution_count": 17,
   "metadata": {},
   "outputs": [
    {
     "name": "stdout",
     "output_type": "stream",
     "text": [
      "Il cliente non può accedere all'offerta speciale.\n"
     ]
    }
   ],
   "source": [
    "def input_dati():\n",
    "    return (\n",
    "        bool(input(\"È un cliente attivo? (True o False): \")),\n",
    "        int(input(\"Quanti acquisti ha effettuato? \")),\n",
    "        float(input(\"Quanto ha speso in totale? \")),\n",
    "        bool(input(\"Ha un account sospeso? (True o False): \")),\n",
    "        int(input(\"Quanti anni ha? \"))\n",
    "    )\n",
    "\n",
    "def valuta_accesso(utente_attivo, num_acquisti, spesa_totale, sospeso):\n",
    "    return utente_attivo and num_acquisti >= 3 and spesa_totale >= 100.50 and not sospeso\n",
    "\n",
    "def calcola_sconto(utente_attivo, sospeso, eta):\n",
    "    return max(30 - eta, 0) if utente_attivo and not sospeso else 0\n",
    "\n",
    "# Esegui\n",
    "utente_attivo, num_acquisti, spesa_totale, sospeso, eta = input_dati()\n",
    "if valuta_accesso(utente_attivo, num_acquisti, spesa_totale, sospeso):\n",
    "    print(\"Il cliente può accedere all'offerta speciale.\")\n",
    "    print(f\"Lo sconto applicabile è del {calcola_sconto(utente_attivo, sospeso, eta)}%\")\n",
    "else:\n",
    "    print(\"Il cliente non può accedere all'offerta speciale.\")\n"
   ]
  },
  {
   "cell_type": "code",
   "execution_count": 5,
   "metadata": {},
   "outputs": [
    {
     "name": "stdout",
     "output_type": "stream",
     "text": [
      "Ottimo\n"
     ]
    }
   ],
   "source": [
    "voto_numerico = int(input(\"Inserisci il voto numerico: \"))\n",
    "if voto_numerico > 0 and voto_numerico < 10:\n",
    "    if voto_numerico < 6:\n",
    "        print(\"Insufficiente\")\n",
    "    elif voto_numerico < 7 and voto_numerico > 5:\n",
    "        print(\"Buono\")\n",
    "    else:\n",
    "        print(\"Ottimo\")\n",
    "else:\n",
    "    print(\"Il voto inserito non è valido.\")\n",
    "    \n",
    "    "
   ]
  }
 ],
 "metadata": {
  "kernelspec": {
   "display_name": ".venv",
   "language": "python",
   "name": "python3"
  },
  "language_info": {
   "codemirror_mode": {
    "name": "ipython",
    "version": 3
   },
   "file_extension": ".py",
   "mimetype": "text/x-python",
   "name": "python",
   "nbconvert_exporter": "python",
   "pygments_lexer": "ipython3",
   "version": "3.10.4"
  }
 },
 "nbformat": 4,
 "nbformat_minor": 2
}
