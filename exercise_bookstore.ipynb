{
 "cells": [
  {
   "cell_type": "markdown",
   "metadata": {},
   "source": [
    "# Esercizio: Sistema di Valutazione Abbonamenti e Codice Sconto\n",
    "\n",
    "## Sistema di Valutazione Abbonamenti\n",
    "Un'azienda di servizi online vuole implementare un sistema che valuti se un cliente può accedere a un'offerta speciale. Le condizioni per accedere all'offerta sono le seguenti:\n",
    "\n",
    "Il cliente deve essere un utente attivo (campo booleano utente_attivo).\n",
    "Deve aver effettuato almeno 3 acquisti (numero_acquisti è un intero).\n",
    "Deve aver speso in totale almeno 100.50 euro (spesa_totale è un numero decimale).\n",
    "Non deve avere account sospesi (sospeso è un booleano).\n",
    "\n",
    "## Regole per il codice sconto\n",
    "L'utente riceve uno sconto calcolato come 30 - età.\n",
    "Se il valore risultante è negativo, lo sconto è considerato pari a 0.\n",
    "Lo sconto è valido solo per utenti attivi e non sospesi.\n",
    "\n",
    "## Obiettivo\n",
    "Scrivi un programma che:\n",
    "\n",
    "Definisca la funzione valuta_accesso:\n",
    "- Verifica se il cliente può accedere all'offerta speciale.\n",
    "\n",
    "Definisca la funzione input_dati:\n",
    "- Acquisisce i dati richiesti dall'utente. (hint: input)\n",
    "\n",
    "Definisca una nuova funzione calcola_sconto che:\n",
    "- Accetti come parametri:\n",
    "    - utente_attivo (booleano)\n",
    "    - sospeso (booleano)\n",
    "    - età (intero)\n",
    "- Calcoli lo sconto come 30 - età se l'utente è attivo e non sospeso.\n",
    "- Restituisca 0 se l'utente non soddisfa i requisiti o se lo sconto calcolato è negativo.\n",
    "\n",
    "Mostri all'utente:\n",
    "- Se può accedere all'offerta speciale.\n",
    "- L'ammontare dello sconto che gli spetta (se applicabile)."
   ]
  }
 ],
 "metadata": {
  "language_info": {
   "name": "python"
  }
 },
 "nbformat": 4,
 "nbformat_minor": 2
}
